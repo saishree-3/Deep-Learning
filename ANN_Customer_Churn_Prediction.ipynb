{
  "nbformat": 4,
  "nbformat_minor": 0,
  "metadata": {
    "colab": {
      "name": "ANN Customer_Churn_Prediction.ipynb",
      "provenance": []
    },
    "kernelspec": {
      "name": "python3",
      "display_name": "Python 3"
    }
  },
  "cells": [
    {
      "cell_type": "markdown",
      "metadata": {
        "id": "BVpzquo8Alo8"
      },
      "source": [
        "## Part - 1 "
      ]
    },
    {
      "cell_type": "markdown",
      "metadata": {
        "id": "P5Ch0qTs718f"
      },
      "source": [
        "Importing Libraries"
      ]
    },
    {
      "cell_type": "code",
      "metadata": {
        "id": "rVZB2-0q5SjS"
      },
      "source": [
        "import numpy as np\n",
        "import pandas as pd\n",
        "import tensorflow as tf"
      ],
      "execution_count": 1,
      "outputs": []
    },
    {
      "cell_type": "markdown",
      "metadata": {
        "id": "C5YgbQyy8Bxw"
      },
      "source": [
        "## Data Preprocessing"
      ]
    },
    {
      "cell_type": "code",
      "metadata": {
        "id": "5KyspEPp8EyV"
      },
      "source": [
        "df = pd.read_csv('Churn_Modelling.csv')\n",
        "X = df.iloc[:, 3:-1].values\n",
        "y = df.iloc[:, -1].values"
      ],
      "execution_count": 3,
      "outputs": []
    },
    {
      "cell_type": "code",
      "metadata": {
        "id": "Z7Aowwvl8yDd",
        "outputId": "ccc8b663-beca-4e17-cc09-c436ee2ad945",
        "colab": {
          "base_uri": "https://localhost:8080/",
          "height": 136
        }
      },
      "source": [
        "print (X)\n",
        "#X has 'Geography' and 'Gender' "
      ],
      "execution_count": 4,
      "outputs": [
        {
          "output_type": "stream",
          "text": [
            "[[619 'France' 'Female' ... 1 1 101348.88]\n",
            " [608 'Spain' 'Female' ... 0 1 112542.58]\n",
            " [502 'France' 'Female' ... 1 0 113931.57]\n",
            " ...\n",
            " [709 'France' 'Female' ... 0 1 42085.58]\n",
            " [772 'Germany' 'Male' ... 1 0 92888.52]\n",
            " [792 'France' 'Female' ... 1 0 38190.78]]\n"
          ],
          "name": "stdout"
        }
      ]
    },
    {
      "cell_type": "markdown",
      "metadata": {
        "id": "801WR-sN9dv4"
      },
      "source": [
        "## Encoding  of Categorical Data"
      ]
    },
    {
      "cell_type": "markdown",
      "metadata": {
        "id": "faqRJQoz9IPN"
      },
      "source": [
        "Label Encoding of Gender - in 3rd column of X"
      ]
    },
    {
      "cell_type": "code",
      "metadata": {
        "id": "KH4hXUoN9Qg1"
      },
      "source": [
        "from sklearn.preprocessing import LabelEncoder\n",
        "le = LabelEncoder()\n",
        "X[: ,2] = le.fit_transform(X[:, 2])"
      ],
      "execution_count": 5,
      "outputs": []
    },
    {
      "cell_type": "markdown",
      "metadata": {
        "id": "uQaLYMop9Lvl"
      },
      "source": [
        "OneHotEncoding on 'Geographical' - in 2nd column of X"
      ]
    },
    {
      "cell_type": "code",
      "metadata": {
        "id": "11R0EjWY9FuR"
      },
      "source": [
        "from sklearn.compose import ColumnTransformer\n",
        "from sklearn.preprocessing import OneHotEncoder\n",
        "ct = ColumnTransformer( transformers = [('encoder', OneHotEncoder(), [1])], remainder = 'passthrough')\n",
        "X = np.array (ct.fit_transform(X))"
      ],
      "execution_count": 6,
      "outputs": []
    },
    {
      "cell_type": "code",
      "metadata": {
        "id": "IIv5fuAb-LAp",
        "outputId": "08c6d35d-2616-4f0f-ab7d-2b2f0f16bc7d",
        "colab": {
          "base_uri": "https://localhost:8080/",
          "height": 136
        }
      },
      "source": [
        "print (X)\n",
        "#X is encoded"
      ],
      "execution_count": 7,
      "outputs": [
        {
          "output_type": "stream",
          "text": [
            "[[1.0 0.0 0.0 ... 1 1 101348.88]\n",
            " [0.0 0.0 1.0 ... 0 1 112542.58]\n",
            " [1.0 0.0 0.0 ... 1 0 113931.57]\n",
            " ...\n",
            " [1.0 0.0 0.0 ... 0 1 42085.58]\n",
            " [0.0 1.0 0.0 ... 1 0 92888.52]\n",
            " [1.0 0.0 0.0 ... 1 0 38190.78]]\n"
          ],
          "name": "stdout"
        }
      ]
    },
    {
      "cell_type": "markdown",
      "metadata": {
        "id": "AaKwTSdZ_i7A"
      },
      "source": [
        "## Feature Scaling \n",
        "- is Must for NN\n",
        "- always done after splitting to prevent info leakage"
      ]
    },
    {
      "cell_type": "code",
      "metadata": {
        "id": "P5m1xaW__7eH"
      },
      "source": [
        "from sklearn.model_selection import train_test_split\n",
        "X_train, X_test, y_train, y_test = train_test_split( X, y, test_size = 0.2, random_state = 101)"
      ],
      "execution_count": 8,
      "outputs": []
    },
    {
      "cell_type": "code",
      "metadata": {
        "id": "Gf1789nI_aMt"
      },
      "source": [
        "from sklearn.preprocessing import StandardScaler\n",
        "sc = StandardScaler()\n",
        "X_train  = sc.fit_transform(X_train)\n",
        "X_test = sc.transform(X_test)\n"
      ],
      "execution_count": 9,
      "outputs": []
    },
    {
      "cell_type": "markdown",
      "metadata": {
        "id": "gLdhMdIdEbyJ"
      },
      "source": [
        "## Part - 2."
      ]
    },
    {
      "cell_type": "markdown",
      "metadata": {
        "id": "6OOxA7ya6SVF"
      },
      "source": [
        "Building the ANN"
      ]
    },
    {
      "cell_type": "code",
      "metadata": {
        "id": "CVsPcoshAcNi"
      },
      "source": [
        "#Initializing the ANN\n",
        "ann = tf.keras.models.Sequential()\n",
        "#Adding Hidden layer - 1 \n",
        "ann.add(tf.keras.layers.Dense(units = 6, activation= 'relu'))\n",
        "#Adding Hidden layer - 2\n",
        "ann.add(tf.keras.layers.Dense(units = 6, activation= 'relu'))\n",
        "#Adding Output layer - activation - 'sigmoid'(for binary o/p), 'softmax'(for categorical classification i.e more than 2 o/p)\n",
        "ann.add(tf.keras.layers.Dense(units = 1, activation= 'sigmoid'))\n"
      ],
      "execution_count": 11,
      "outputs": []
    },
    {
      "cell_type": "markdown",
      "metadata": {
        "id": "43mFKvN06OkO"
      },
      "source": [
        "Training the ANN"
      ]
    },
    {
      "cell_type": "code",
      "metadata": {
        "id": "oB1WhMAx6Vg2"
      },
      "source": [
        "#compliling - optimizer - 'adam'(stochastic), loss = 'binary_crossentropy'(0/1 op), 'categorical_crossentropy'(categorical classification)\n",
        "ann.compile(optimizer = 'adam', loss = 'binary_crossentropy', metrics = ['accuracy'])"
      ],
      "execution_count": 13,
      "outputs": []
    },
    {
      "cell_type": "code",
      "metadata": {
        "id": "96cn2P-06dPH",
        "outputId": "79837986-d07f-4bd4-831a-92e2ac61b7a3",
        "colab": {
          "base_uri": "https://localhost:8080/",
          "height": 1000
        }
      },
      "source": [
        "#training\n",
        "ann.fit(X_train, y_train, batch_size = 32, epochs = 100)"
      ],
      "execution_count": 14,
      "outputs": [
        {
          "output_type": "stream",
          "text": [
            "Epoch 1/100\n",
            "250/250 [==============================] - 0s 552us/step - loss: 0.5250 - accuracy: 0.7983\n",
            "Epoch 2/100\n",
            "250/250 [==============================] - 0s 558us/step - loss: 0.4831 - accuracy: 0.7983\n",
            "Epoch 3/100\n",
            "250/250 [==============================] - 0s 539us/step - loss: 0.4622 - accuracy: 0.7983\n",
            "Epoch 4/100\n",
            "250/250 [==============================] - 0s 521us/step - loss: 0.4490 - accuracy: 0.7983\n",
            "Epoch 5/100\n",
            "250/250 [==============================] - 0s 517us/step - loss: 0.4391 - accuracy: 0.7983\n",
            "Epoch 6/100\n",
            "250/250 [==============================] - 0s 538us/step - loss: 0.4320 - accuracy: 0.7983\n",
            "Epoch 7/100\n",
            "250/250 [==============================] - 0s 527us/step - loss: 0.4275 - accuracy: 0.8073\n",
            "Epoch 8/100\n",
            "250/250 [==============================] - 0s 515us/step - loss: 0.4243 - accuracy: 0.8189\n",
            "Epoch 9/100\n",
            "250/250 [==============================] - 0s 527us/step - loss: 0.4214 - accuracy: 0.8210\n",
            "Epoch 10/100\n",
            "250/250 [==============================] - 0s 520us/step - loss: 0.4193 - accuracy: 0.8259\n",
            "Epoch 11/100\n",
            "250/250 [==============================] - 0s 523us/step - loss: 0.4169 - accuracy: 0.8269\n",
            "Epoch 12/100\n",
            "250/250 [==============================] - 0s 530us/step - loss: 0.4150 - accuracy: 0.8281\n",
            "Epoch 13/100\n",
            "250/250 [==============================] - 0s 524us/step - loss: 0.4133 - accuracy: 0.8307\n",
            "Epoch 14/100\n",
            "250/250 [==============================] - 0s 533us/step - loss: 0.4122 - accuracy: 0.8326\n",
            "Epoch 15/100\n",
            "250/250 [==============================] - 0s 531us/step - loss: 0.4108 - accuracy: 0.8310\n",
            "Epoch 16/100\n",
            "250/250 [==============================] - 0s 534us/step - loss: 0.4097 - accuracy: 0.8320\n",
            "Epoch 17/100\n",
            "250/250 [==============================] - 0s 537us/step - loss: 0.4087 - accuracy: 0.8296\n",
            "Epoch 18/100\n",
            "250/250 [==============================] - 0s 549us/step - loss: 0.4082 - accuracy: 0.8322\n",
            "Epoch 19/100\n",
            "250/250 [==============================] - 0s 545us/step - loss: 0.4073 - accuracy: 0.8320\n",
            "Epoch 20/100\n",
            "250/250 [==============================] - 0s 557us/step - loss: 0.4069 - accuracy: 0.8314\n",
            "Epoch 21/100\n",
            "250/250 [==============================] - 0s 542us/step - loss: 0.4060 - accuracy: 0.8332\n",
            "Epoch 22/100\n",
            "250/250 [==============================] - 0s 530us/step - loss: 0.4051 - accuracy: 0.8321\n",
            "Epoch 23/100\n",
            "250/250 [==============================] - 0s 517us/step - loss: 0.4050 - accuracy: 0.8324\n",
            "Epoch 24/100\n",
            "250/250 [==============================] - 0s 527us/step - loss: 0.4048 - accuracy: 0.8335\n",
            "Epoch 25/100\n",
            "250/250 [==============================] - 0s 556us/step - loss: 0.4040 - accuracy: 0.8335\n",
            "Epoch 26/100\n",
            "250/250 [==============================] - 0s 513us/step - loss: 0.4036 - accuracy: 0.8344\n",
            "Epoch 27/100\n",
            "250/250 [==============================] - 0s 518us/step - loss: 0.4032 - accuracy: 0.8350\n",
            "Epoch 28/100\n",
            "250/250 [==============================] - 0s 556us/step - loss: 0.4027 - accuracy: 0.8349\n",
            "Epoch 29/100\n",
            "250/250 [==============================] - 0s 517us/step - loss: 0.4025 - accuracy: 0.8347\n",
            "Epoch 30/100\n",
            "250/250 [==============================] - 0s 509us/step - loss: 0.4020 - accuracy: 0.8360\n",
            "Epoch 31/100\n",
            "250/250 [==============================] - 0s 513us/step - loss: 0.4019 - accuracy: 0.8344\n",
            "Epoch 32/100\n",
            "250/250 [==============================] - 0s 545us/step - loss: 0.4012 - accuracy: 0.8350\n",
            "Epoch 33/100\n",
            "250/250 [==============================] - 0s 535us/step - loss: 0.4007 - accuracy: 0.8359\n",
            "Epoch 34/100\n",
            "250/250 [==============================] - 0s 555us/step - loss: 0.4006 - accuracy: 0.8359\n",
            "Epoch 35/100\n",
            "250/250 [==============================] - 0s 524us/step - loss: 0.4002 - accuracy: 0.8351\n",
            "Epoch 36/100\n",
            "250/250 [==============================] - 0s 537us/step - loss: 0.4000 - accuracy: 0.8356\n",
            "Epoch 37/100\n",
            "250/250 [==============================] - 0s 513us/step - loss: 0.3997 - accuracy: 0.8364\n",
            "Epoch 38/100\n",
            "250/250 [==============================] - 0s 549us/step - loss: 0.3995 - accuracy: 0.8361\n",
            "Epoch 39/100\n",
            "250/250 [==============================] - 0s 535us/step - loss: 0.3992 - accuracy: 0.8355\n",
            "Epoch 40/100\n",
            "250/250 [==============================] - 0s 543us/step - loss: 0.3990 - accuracy: 0.8363\n",
            "Epoch 41/100\n",
            "250/250 [==============================] - 0s 513us/step - loss: 0.3987 - accuracy: 0.8355\n",
            "Epoch 42/100\n",
            "250/250 [==============================] - 0s 522us/step - loss: 0.3986 - accuracy: 0.8364\n",
            "Epoch 43/100\n",
            "250/250 [==============================] - 0s 540us/step - loss: 0.3982 - accuracy: 0.8360\n",
            "Epoch 44/100\n",
            "250/250 [==============================] - 0s 528us/step - loss: 0.3983 - accuracy: 0.8356\n",
            "Epoch 45/100\n",
            "250/250 [==============================] - 0s 525us/step - loss: 0.3980 - accuracy: 0.8364\n",
            "Epoch 46/100\n",
            "250/250 [==============================] - 0s 519us/step - loss: 0.3975 - accuracy: 0.8364\n",
            "Epoch 47/100\n",
            "250/250 [==============================] - 0s 554us/step - loss: 0.3975 - accuracy: 0.8360\n",
            "Epoch 48/100\n",
            "250/250 [==============================] - 0s 535us/step - loss: 0.3976 - accuracy: 0.8357\n",
            "Epoch 49/100\n",
            "250/250 [==============================] - 0s 521us/step - loss: 0.3970 - accuracy: 0.8381\n",
            "Epoch 50/100\n",
            "250/250 [==============================] - 0s 562us/step - loss: 0.3970 - accuracy: 0.8363\n",
            "Epoch 51/100\n",
            "250/250 [==============================] - 0s 551us/step - loss: 0.3969 - accuracy: 0.8369\n",
            "Epoch 52/100\n",
            "250/250 [==============================] - 0s 524us/step - loss: 0.3962 - accuracy: 0.8378\n",
            "Epoch 53/100\n",
            "250/250 [==============================] - 0s 538us/step - loss: 0.3963 - accuracy: 0.8366\n",
            "Epoch 54/100\n",
            "250/250 [==============================] - 0s 533us/step - loss: 0.3962 - accuracy: 0.8361\n",
            "Epoch 55/100\n",
            "250/250 [==============================] - 0s 529us/step - loss: 0.3960 - accuracy: 0.8371\n",
            "Epoch 56/100\n",
            "250/250 [==============================] - 0s 533us/step - loss: 0.3958 - accuracy: 0.8378\n",
            "Epoch 57/100\n",
            "250/250 [==============================] - 0s 535us/step - loss: 0.3955 - accuracy: 0.8382\n",
            "Epoch 58/100\n",
            "250/250 [==============================] - 0s 539us/step - loss: 0.3957 - accuracy: 0.8376\n",
            "Epoch 59/100\n",
            "250/250 [==============================] - 0s 548us/step - loss: 0.3950 - accuracy: 0.8365\n",
            "Epoch 60/100\n",
            "250/250 [==============================] - 0s 548us/step - loss: 0.3952 - accuracy: 0.8376\n",
            "Epoch 61/100\n",
            "250/250 [==============================] - 0s 540us/step - loss: 0.3949 - accuracy: 0.8375\n",
            "Epoch 62/100\n",
            "250/250 [==============================] - 0s 533us/step - loss: 0.3949 - accuracy: 0.8370\n",
            "Epoch 63/100\n",
            "250/250 [==============================] - 0s 544us/step - loss: 0.3947 - accuracy: 0.8374\n",
            "Epoch 64/100\n",
            "250/250 [==============================] - 0s 537us/step - loss: 0.3947 - accuracy: 0.8374\n",
            "Epoch 65/100\n",
            "250/250 [==============================] - 0s 542us/step - loss: 0.3944 - accuracy: 0.8369\n",
            "Epoch 66/100\n",
            "250/250 [==============================] - 0s 551us/step - loss: 0.3942 - accuracy: 0.8386\n",
            "Epoch 67/100\n",
            "250/250 [==============================] - 0s 546us/step - loss: 0.3944 - accuracy: 0.8376\n",
            "Epoch 68/100\n",
            "250/250 [==============================] - 0s 544us/step - loss: 0.3941 - accuracy: 0.8372\n",
            "Epoch 69/100\n",
            "250/250 [==============================] - 0s 561us/step - loss: 0.3943 - accuracy: 0.8403\n",
            "Epoch 70/100\n",
            "250/250 [==============================] - 0s 528us/step - loss: 0.3937 - accuracy: 0.8380\n",
            "Epoch 71/100\n",
            "250/250 [==============================] - 0s 529us/step - loss: 0.3942 - accuracy: 0.8380\n",
            "Epoch 72/100\n",
            "250/250 [==============================] - 0s 548us/step - loss: 0.3933 - accuracy: 0.8400\n",
            "Epoch 73/100\n",
            "250/250 [==============================] - 0s 547us/step - loss: 0.3937 - accuracy: 0.8385\n",
            "Epoch 74/100\n",
            "250/250 [==============================] - 0s 539us/step - loss: 0.3933 - accuracy: 0.8385\n",
            "Epoch 75/100\n",
            "250/250 [==============================] - 0s 533us/step - loss: 0.3934 - accuracy: 0.8396\n",
            "Epoch 76/100\n",
            "250/250 [==============================] - 0s 583us/step - loss: 0.3930 - accuracy: 0.8382\n",
            "Epoch 77/100\n",
            "250/250 [==============================] - 0s 534us/step - loss: 0.3933 - accuracy: 0.8395\n",
            "Epoch 78/100\n",
            "250/250 [==============================] - 0s 537us/step - loss: 0.3930 - accuracy: 0.8395\n",
            "Epoch 79/100\n",
            "250/250 [==============================] - 0s 554us/step - loss: 0.3930 - accuracy: 0.8393\n",
            "Epoch 80/100\n",
            "250/250 [==============================] - 0s 546us/step - loss: 0.3929 - accuracy: 0.8385\n",
            "Epoch 81/100\n",
            "250/250 [==============================] - 0s 547us/step - loss: 0.3932 - accuracy: 0.8386\n",
            "Epoch 82/100\n",
            "250/250 [==============================] - 0s 527us/step - loss: 0.3929 - accuracy: 0.8388\n",
            "Epoch 83/100\n",
            "250/250 [==============================] - 0s 545us/step - loss: 0.3927 - accuracy: 0.8396\n",
            "Epoch 84/100\n",
            "250/250 [==============================] - 0s 582us/step - loss: 0.3927 - accuracy: 0.8395\n",
            "Epoch 85/100\n",
            "250/250 [==============================] - 0s 553us/step - loss: 0.3925 - accuracy: 0.8386\n",
            "Epoch 86/100\n",
            "250/250 [==============================] - 0s 546us/step - loss: 0.3923 - accuracy: 0.8394\n",
            "Epoch 87/100\n",
            "250/250 [==============================] - 0s 576us/step - loss: 0.3920 - accuracy: 0.8374\n",
            "Epoch 88/100\n",
            "250/250 [==============================] - 0s 553us/step - loss: 0.3918 - accuracy: 0.8379\n",
            "Epoch 89/100\n",
            "250/250 [==============================] - 0s 578us/step - loss: 0.3918 - accuracy: 0.8397\n",
            "Epoch 90/100\n",
            "250/250 [==============================] - 0s 542us/step - loss: 0.3918 - accuracy: 0.8396\n",
            "Epoch 91/100\n",
            "250/250 [==============================] - 0s 535us/step - loss: 0.3912 - accuracy: 0.8401\n",
            "Epoch 92/100\n",
            "250/250 [==============================] - 0s 563us/step - loss: 0.3909 - accuracy: 0.8394\n",
            "Epoch 93/100\n",
            "250/250 [==============================] - 0s 544us/step - loss: 0.3905 - accuracy: 0.8386\n",
            "Epoch 94/100\n",
            "250/250 [==============================] - 0s 575us/step - loss: 0.3902 - accuracy: 0.8399\n",
            "Epoch 95/100\n",
            "250/250 [==============================] - 0s 557us/step - loss: 0.3900 - accuracy: 0.8399\n",
            "Epoch 96/100\n",
            "250/250 [==============================] - 0s 532us/step - loss: 0.3899 - accuracy: 0.8391\n",
            "Epoch 97/100\n",
            "250/250 [==============================] - 0s 540us/step - loss: 0.3894 - accuracy: 0.8406\n",
            "Epoch 98/100\n",
            "250/250 [==============================] - 0s 553us/step - loss: 0.3889 - accuracy: 0.8401\n",
            "Epoch 99/100\n",
            "250/250 [==============================] - 0s 548us/step - loss: 0.3886 - accuracy: 0.8393\n",
            "Epoch 100/100\n",
            "250/250 [==============================] - 0s 554us/step - loss: 0.3880 - accuracy: 0.8394\n"
          ],
          "name": "stdout"
        },
        {
          "output_type": "execute_result",
          "data": {
            "text/plain": [
              "<tensorflow.python.keras.callbacks.History at 0x7f52e1100dd8>"
            ]
          },
          "metadata": {
            "tags": []
          },
          "execution_count": 14
        }
      ]
    },
    {
      "cell_type": "markdown",
      "metadata": {
        "id": "MxrHASXF9B8d"
      },
      "source": [
        "##Part - 4"
      ]
    },
    {
      "cell_type": "markdown",
      "metadata": {
        "id": "Y2fD_khC9Ed5"
      },
      "source": [
        "Making Predictions\n",
        "\n",
        " - Geography - France\n",
        " - Credit Score - 600\n",
        " - Gender - Male\n",
        " - Age - 40\n",
        " - Tenure - 3\n",
        " - Balance - 60000\n",
        " - Number of Products - 2\n",
        " - Does this customer have credit card - Yes\n",
        " - Is this customer an active member - Yes\n",
        " - Salary - 50000\n"
      ]
    },
    {
      "cell_type": "code",
      "metadata": {
        "id": "Mu5MqAFa8fJk",
        "outputId": "a26d348e-4162-4969-85fd-4a91a43b57cb",
        "colab": {
          "base_uri": "https://localhost:8080/",
          "height": 34
        }
      },
      "source": [
        "#note 3 points:\n",
        "#remember [[]] for prediction\n",
        "#give encoded value for categorical variables\n",
        "#transform the feature scaling\n",
        "print (ann.predict(sc.transform([[1, 0, 0, 600, 1, 40, 3, 60000, 2, 1, 1, 50000]])) > 0.5) # >0.5 is given as a threshold to get output as 0 / 1 i.e True/False"
      ],
      "execution_count": 15,
      "outputs": [
        {
          "output_type": "stream",
          "text": [
            "[[False]]\n"
          ],
          "name": "stdout"
        }
      ]
    },
    {
      "cell_type": "markdown",
      "metadata": {
        "id": "fdWseDQ-GupT"
      },
      "source": [
        "Preicting Test Set"
      ]
    },
    {
      "cell_type": "code",
      "metadata": {
        "id": "uHhCEGjZGod5"
      },
      "source": [
        "y_pred = ann.predict(X_test) #the o/p is received as probabilities\n",
        "y_pred = y_pred > 0.5 #to get the result as 0 / 1"
      ],
      "execution_count": 17,
      "outputs": []
    },
    {
      "cell_type": "markdown",
      "metadata": {
        "id": "D7L4sX-HGvR4"
      },
      "source": [
        "Confusion matrix and Accuracy"
      ]
    },
    {
      "cell_type": "code",
      "metadata": {
        "id": "tzde0ZUVGwKZ",
        "outputId": "7ca906fc-b0c6-48a4-82e5-7ff5c3bd26a5",
        "colab": {
          "base_uri": "https://localhost:8080/",
          "height": 85
        }
      },
      "source": [
        "from sklearn.metrics import confusion_matrix, accuracy_score\n",
        "cm = confusion_matrix(y_test, y_pred)\n",
        "print ('Confusion Matrix:')\n",
        "print (cm)\n",
        "accu = accuracy_score(y_test, y_pred)\n",
        "print ('Accuracy score:', accu)"
      ],
      "execution_count": 18,
      "outputs": [
        {
          "output_type": "stream",
          "text": [
            "Confusion Matrix:\n",
            "[[1523   54]\n",
            " [ 266  157]]\n",
            "Accuracy score: 0.84\n"
          ],
          "name": "stdout"
        }
      ]
    }
  ]
}