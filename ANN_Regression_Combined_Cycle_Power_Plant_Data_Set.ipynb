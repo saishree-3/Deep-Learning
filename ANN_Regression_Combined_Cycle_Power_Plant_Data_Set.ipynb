{
  "nbformat": 4,
  "nbformat_minor": 0,
  "metadata": {
    "colab": {
      "name": "ANN Regression - Combined Cycle Power Plant Data Set.ipynb",
      "provenance": []
    },
    "kernelspec": {
      "name": "python3",
      "display_name": "Python 3"
    }
  },
  "cells": [
    {
      "cell_type": "markdown",
      "metadata": {
        "id": "7Y_U4BYftOZo"
      },
      "source": [
        "## Part - 1"
      ]
    },
    {
      "cell_type": "markdown",
      "metadata": {
        "id": "z9pb8gGNvGN-"
      },
      "source": [
        "Import Libraries"
      ]
    },
    {
      "cell_type": "code",
      "metadata": {
        "id": "-ZBpOS-3tHCn"
      },
      "source": [
        "import numpy as np\n",
        "import pandas as pd\n",
        "import tensorflow as tf"
      ],
      "execution_count": 1,
      "outputs": []
    },
    {
      "cell_type": "markdown",
      "metadata": {
        "id": "_IRTE8pJtO_G"
      },
      "source": [
        "Load Dataset - Combined Cycle Power Plant Data Set (taken from UCI repo)"
      ]
    },
    {
      "cell_type": "code",
      "metadata": {
        "id": "qcJsEEsWtaKa",
        "outputId": "b92d837f-4690-4a21-f6cf-7fa85dc29a74",
        "colab": {
          "base_uri": "https://localhost:8080/",
          "height": 199
        }
      },
      "source": [
        "df = pd.read_excel('Folds5x2_pp.xlsx')\n",
        "df.head()\n",
        "X = df.iloc[:, :-1].values\n",
        "y = df.iloc[:, -1].values"
      ],
      "execution_count": 6,
      "outputs": [
        {
          "output_type": "execute_result",
          "data": {
            "text/html": [
              "<div>\n",
              "<style scoped>\n",
              "    .dataframe tbody tr th:only-of-type {\n",
              "        vertical-align: middle;\n",
              "    }\n",
              "\n",
              "    .dataframe tbody tr th {\n",
              "        vertical-align: top;\n",
              "    }\n",
              "\n",
              "    .dataframe thead th {\n",
              "        text-align: right;\n",
              "    }\n",
              "</style>\n",
              "<table border=\"1\" class=\"dataframe\">\n",
              "  <thead>\n",
              "    <tr style=\"text-align: right;\">\n",
              "      <th></th>\n",
              "      <th>AT</th>\n",
              "      <th>V</th>\n",
              "      <th>AP</th>\n",
              "      <th>RH</th>\n",
              "      <th>PE</th>\n",
              "    </tr>\n",
              "  </thead>\n",
              "  <tbody>\n",
              "    <tr>\n",
              "      <th>0</th>\n",
              "      <td>14.96</td>\n",
              "      <td>41.76</td>\n",
              "      <td>1024.07</td>\n",
              "      <td>73.17</td>\n",
              "      <td>463.26</td>\n",
              "    </tr>\n",
              "    <tr>\n",
              "      <th>1</th>\n",
              "      <td>25.18</td>\n",
              "      <td>62.96</td>\n",
              "      <td>1020.04</td>\n",
              "      <td>59.08</td>\n",
              "      <td>444.37</td>\n",
              "    </tr>\n",
              "    <tr>\n",
              "      <th>2</th>\n",
              "      <td>5.11</td>\n",
              "      <td>39.40</td>\n",
              "      <td>1012.16</td>\n",
              "      <td>92.14</td>\n",
              "      <td>488.56</td>\n",
              "    </tr>\n",
              "    <tr>\n",
              "      <th>3</th>\n",
              "      <td>20.86</td>\n",
              "      <td>57.32</td>\n",
              "      <td>1010.24</td>\n",
              "      <td>76.64</td>\n",
              "      <td>446.48</td>\n",
              "    </tr>\n",
              "    <tr>\n",
              "      <th>4</th>\n",
              "      <td>10.82</td>\n",
              "      <td>37.50</td>\n",
              "      <td>1009.23</td>\n",
              "      <td>96.62</td>\n",
              "      <td>473.90</td>\n",
              "    </tr>\n",
              "  </tbody>\n",
              "</table>\n",
              "</div>"
            ],
            "text/plain": [
              "      AT      V       AP     RH      PE\n",
              "0  14.96  41.76  1024.07  73.17  463.26\n",
              "1  25.18  62.96  1020.04  59.08  444.37\n",
              "2   5.11  39.40  1012.16  92.14  488.56\n",
              "3  20.86  57.32  1010.24  76.64  446.48\n",
              "4  10.82  37.50  1009.23  96.62  473.90"
            ]
          },
          "metadata": {
            "tags": []
          },
          "execution_count": 6
        }
      ]
    },
    {
      "cell_type": "markdown",
      "metadata": {
        "id": "2Uh-dMd_vTop"
      },
      "source": [
        "Train Test Split"
      ]
    },
    {
      "cell_type": "code",
      "metadata": {
        "id": "M5WEo-hgtxKq"
      },
      "source": [
        "from sklearn.model_selection import train_test_split\n",
        "X_train, X_test, y_train, y_test = train_test_split(X, y, test_size = 0.2, random_state = 101 )"
      ],
      "execution_count": 3,
      "outputs": []
    },
    {
      "cell_type": "code",
      "metadata": {
        "id": "jVwTHxeZuSRy",
        "outputId": "895b8537-c182-460c-b912-6440d997492a",
        "colab": {
          "base_uri": "https://localhost:8080/"
        }
      },
      "source": [
        "print (X)"
      ],
      "execution_count": 4,
      "outputs": [
        {
          "output_type": "stream",
          "text": [
            "[[  14.96   41.76 1024.07   73.17]\n",
            " [  25.18   62.96 1020.04   59.08]\n",
            " [   5.11   39.4  1012.16   92.14]\n",
            " ...\n",
            " [  31.32   74.33 1012.92   36.48]\n",
            " [  24.48   69.45 1013.86   62.39]\n",
            " [  21.6    62.52 1017.23   67.87]]\n"
          ],
          "name": "stdout"
        }
      ]
    },
    {
      "cell_type": "code",
      "metadata": {
        "id": "MBDcNqN5uTGB",
        "outputId": "dd327f6f-7d89-4f7b-d54a-ca5556ea19e5",
        "colab": {
          "base_uri": "https://localhost:8080/"
        }
      },
      "source": [
        "print (y)"
      ],
      "execution_count": 5,
      "outputs": [
        {
          "output_type": "stream",
          "text": [
            "[463.26 444.37 488.56 ... 429.57 435.74 453.28]\n"
          ],
          "name": "stdout"
        }
      ]
    },
    {
      "cell_type": "markdown",
      "metadata": {
        "id": "8RGWrJrSvgn3"
      },
      "source": [
        "## Part - 2"
      ]
    },
    {
      "cell_type": "markdown",
      "metadata": {
        "id": "6qkagu8Aviwb"
      },
      "source": [
        "Building the ANN"
      ]
    },
    {
      "cell_type": "code",
      "metadata": {
        "id": "VPK74YqxuUqI"
      },
      "source": [
        "ann = tf.keras.models.Sequential()\n",
        "ann.add(tf.keras.layers.Dense(units = 6, activation = 'relu'))\n",
        "ann.add(tf.keras.layers.Dense(units = 6, activation = 'relu'))\n",
        "ann.add(tf.keras.layers.Dense(units = 1)) #no activatio fn at o/p layer when we are predicting continuous values."
      ],
      "execution_count": 8,
      "outputs": []
    },
    {
      "cell_type": "markdown",
      "metadata": {
        "id": "8vCEC-48v6Pa"
      },
      "source": [
        "Compile and Train the ANN"
      ]
    },
    {
      "cell_type": "code",
      "metadata": {
        "id": "XMiFB2UCv5Uc",
        "outputId": "b9756a12-2d36-4412-b209-d74b4ce57097",
        "colab": {
          "base_uri": "https://localhost:8080/"
        }
      },
      "source": [
        "ann.compile(optimizer = 'adam', loss = 'mean_squared_error')\n",
        "ann.fit(X_train, y_train, epochs = 100, batch_size = 32)"
      ],
      "execution_count": 10,
      "outputs": [
        {
          "output_type": "stream",
          "text": [
            "Epoch 1/100\n",
            "240/240 [==============================] - 0s 783us/step - loss: 423.4030\n",
            "Epoch 2/100\n",
            "240/240 [==============================] - 0s 825us/step - loss: 194.2739\n",
            "Epoch 3/100\n",
            "240/240 [==============================] - 0s 758us/step - loss: 124.1433\n",
            "Epoch 4/100\n",
            "240/240 [==============================] - 0s 738us/step - loss: 74.7549\n",
            "Epoch 5/100\n",
            "240/240 [==============================] - 0s 740us/step - loss: 48.3962\n",
            "Epoch 6/100\n",
            "240/240 [==============================] - 0s 752us/step - loss: 35.3312\n",
            "Epoch 7/100\n",
            "240/240 [==============================] - 0s 732us/step - loss: 30.8715\n",
            "Epoch 8/100\n",
            "240/240 [==============================] - 0s 747us/step - loss: 30.0666\n",
            "Epoch 9/100\n",
            "240/240 [==============================] - 0s 730us/step - loss: 29.0444\n",
            "Epoch 10/100\n",
            "240/240 [==============================] - 0s 735us/step - loss: 28.2858\n",
            "Epoch 11/100\n",
            "240/240 [==============================] - 0s 759us/step - loss: 29.5566\n",
            "Epoch 12/100\n",
            "240/240 [==============================] - 0s 763us/step - loss: 28.2354\n",
            "Epoch 13/100\n",
            "240/240 [==============================] - 0s 766us/step - loss: 28.8773\n",
            "Epoch 14/100\n",
            "240/240 [==============================] - 0s 735us/step - loss: 28.9564\n",
            "Epoch 15/100\n",
            "240/240 [==============================] - 0s 762us/step - loss: 27.6561\n",
            "Epoch 16/100\n",
            "240/240 [==============================] - 0s 771us/step - loss: 28.5811\n",
            "Epoch 17/100\n",
            "240/240 [==============================] - 0s 774us/step - loss: 27.4082\n",
            "Epoch 18/100\n",
            "240/240 [==============================] - 0s 740us/step - loss: 27.6038\n",
            "Epoch 19/100\n",
            "240/240 [==============================] - 0s 743us/step - loss: 27.5260\n",
            "Epoch 20/100\n",
            "240/240 [==============================] - 0s 771us/step - loss: 27.5519\n",
            "Epoch 21/100\n",
            "240/240 [==============================] - 0s 745us/step - loss: 26.9842\n",
            "Epoch 22/100\n",
            "240/240 [==============================] - 0s 738us/step - loss: 27.0352\n",
            "Epoch 23/100\n",
            "240/240 [==============================] - 0s 756us/step - loss: 27.1786\n",
            "Epoch 24/100\n",
            "240/240 [==============================] - 0s 813us/step - loss: 27.1707\n",
            "Epoch 25/100\n",
            "240/240 [==============================] - 0s 782us/step - loss: 27.2030\n",
            "Epoch 26/100\n",
            "240/240 [==============================] - 0s 749us/step - loss: 27.4144\n",
            "Epoch 27/100\n",
            "240/240 [==============================] - 0s 736us/step - loss: 27.4978\n",
            "Epoch 28/100\n",
            "240/240 [==============================] - 0s 801us/step - loss: 27.6627\n",
            "Epoch 29/100\n",
            "240/240 [==============================] - 0s 734us/step - loss: 27.4523\n",
            "Epoch 30/100\n",
            "240/240 [==============================] - 0s 775us/step - loss: 27.9075\n",
            "Epoch 31/100\n",
            "240/240 [==============================] - 0s 749us/step - loss: 27.1012\n",
            "Epoch 32/100\n",
            "240/240 [==============================] - 0s 747us/step - loss: 27.0448\n",
            "Epoch 33/100\n",
            "240/240 [==============================] - 0s 763us/step - loss: 27.6338\n",
            "Epoch 34/100\n",
            "240/240 [==============================] - 0s 746us/step - loss: 26.8977\n",
            "Epoch 35/100\n",
            "240/240 [==============================] - 0s 758us/step - loss: 26.8811\n",
            "Epoch 36/100\n",
            "240/240 [==============================] - 0s 758us/step - loss: 27.3399\n",
            "Epoch 37/100\n",
            "240/240 [==============================] - 0s 758us/step - loss: 28.8353\n",
            "Epoch 38/100\n",
            "240/240 [==============================] - 0s 775us/step - loss: 27.2249\n",
            "Epoch 39/100\n",
            "240/240 [==============================] - 0s 919us/step - loss: 27.5622\n",
            "Epoch 40/100\n",
            "240/240 [==============================] - 0s 827us/step - loss: 28.0031\n",
            "Epoch 41/100\n",
            "240/240 [==============================] - 0s 747us/step - loss: 26.9510\n",
            "Epoch 42/100\n",
            "240/240 [==============================] - 0s 770us/step - loss: 26.4096\n",
            "Epoch 43/100\n",
            "240/240 [==============================] - 0s 749us/step - loss: 27.7389\n",
            "Epoch 44/100\n",
            "240/240 [==============================] - 0s 748us/step - loss: 28.6716\n",
            "Epoch 45/100\n",
            "240/240 [==============================] - 0s 733us/step - loss: 26.5058\n",
            "Epoch 46/100\n",
            "240/240 [==============================] - 0s 741us/step - loss: 27.6646\n",
            "Epoch 47/100\n",
            "240/240 [==============================] - 0s 804us/step - loss: 27.4678\n",
            "Epoch 48/100\n",
            "240/240 [==============================] - 0s 890us/step - loss: 27.5899\n",
            "Epoch 49/100\n",
            "240/240 [==============================] - 0s 923us/step - loss: 28.0711\n",
            "Epoch 50/100\n",
            "240/240 [==============================] - 0s 826us/step - loss: 27.5712\n",
            "Epoch 51/100\n",
            "240/240 [==============================] - 0s 791us/step - loss: 26.9827\n",
            "Epoch 52/100\n",
            "240/240 [==============================] - 0s 781us/step - loss: 26.6827\n",
            "Epoch 53/100\n",
            "240/240 [==============================] - 0s 802us/step - loss: 27.1124\n",
            "Epoch 54/100\n",
            "240/240 [==============================] - 0s 768us/step - loss: 26.2822\n",
            "Epoch 55/100\n",
            "240/240 [==============================] - 0s 741us/step - loss: 26.9756\n",
            "Epoch 56/100\n",
            "240/240 [==============================] - 0s 784us/step - loss: 27.3507\n",
            "Epoch 57/100\n",
            "240/240 [==============================] - 0s 743us/step - loss: 27.2058\n",
            "Epoch 58/100\n",
            "240/240 [==============================] - 0s 786us/step - loss: 26.9772\n",
            "Epoch 59/100\n",
            "240/240 [==============================] - 0s 786us/step - loss: 27.2073\n",
            "Epoch 60/100\n",
            "240/240 [==============================] - 0s 891us/step - loss: 26.9771\n",
            "Epoch 61/100\n",
            "240/240 [==============================] - 0s 772us/step - loss: 26.5289\n",
            "Epoch 62/100\n",
            "240/240 [==============================] - 0s 780us/step - loss: 27.4666\n",
            "Epoch 63/100\n",
            "240/240 [==============================] - 0s 751us/step - loss: 26.9454\n",
            "Epoch 64/100\n",
            "240/240 [==============================] - 0s 739us/step - loss: 27.1776\n",
            "Epoch 65/100\n",
            "240/240 [==============================] - 0s 775us/step - loss: 26.7325\n",
            "Epoch 66/100\n",
            "240/240 [==============================] - 0s 770us/step - loss: 26.8026\n",
            "Epoch 67/100\n",
            "240/240 [==============================] - 0s 787us/step - loss: 27.1948\n",
            "Epoch 68/100\n",
            "240/240 [==============================] - 0s 745us/step - loss: 28.2025\n",
            "Epoch 69/100\n",
            "240/240 [==============================] - 0s 742us/step - loss: 27.6529\n",
            "Epoch 70/100\n",
            "240/240 [==============================] - 0s 761us/step - loss: 27.5314\n",
            "Epoch 71/100\n",
            "240/240 [==============================] - 0s 765us/step - loss: 26.7511\n",
            "Epoch 72/100\n",
            "240/240 [==============================] - 0s 761us/step - loss: 27.0060\n",
            "Epoch 73/100\n",
            "240/240 [==============================] - 0s 789us/step - loss: 27.3277\n",
            "Epoch 74/100\n",
            "240/240 [==============================] - 0s 749us/step - loss: 26.4896\n",
            "Epoch 75/100\n",
            "240/240 [==============================] - 0s 783us/step - loss: 27.6462\n",
            "Epoch 76/100\n",
            "240/240 [==============================] - 0s 768us/step - loss: 26.9221\n",
            "Epoch 77/100\n",
            "240/240 [==============================] - 0s 756us/step - loss: 26.5927\n",
            "Epoch 78/100\n",
            "240/240 [==============================] - 0s 741us/step - loss: 26.9042\n",
            "Epoch 79/100\n",
            "240/240 [==============================] - 0s 853us/step - loss: 27.5938\n",
            "Epoch 80/100\n",
            "240/240 [==============================] - 0s 824us/step - loss: 27.9437\n",
            "Epoch 81/100\n",
            "240/240 [==============================] - 0s 867us/step - loss: 27.0161\n",
            "Epoch 82/100\n",
            "240/240 [==============================] - 0s 750us/step - loss: 26.6541\n",
            "Epoch 83/100\n",
            "240/240 [==============================] - 0s 772us/step - loss: 27.5500\n",
            "Epoch 84/100\n",
            "240/240 [==============================] - 0s 746us/step - loss: 28.2807\n",
            "Epoch 85/100\n",
            "240/240 [==============================] - 0s 768us/step - loss: 26.9408\n",
            "Epoch 86/100\n",
            "240/240 [==============================] - 0s 758us/step - loss: 26.5005\n",
            "Epoch 87/100\n",
            "240/240 [==============================] - 0s 773us/step - loss: 27.0710\n",
            "Epoch 88/100\n",
            "240/240 [==============================] - 0s 759us/step - loss: 27.2739\n",
            "Epoch 89/100\n",
            "240/240 [==============================] - 0s 743us/step - loss: 27.4208\n",
            "Epoch 90/100\n",
            "240/240 [==============================] - 0s 731us/step - loss: 26.8080\n",
            "Epoch 91/100\n",
            "240/240 [==============================] - 0s 801us/step - loss: 26.6467\n",
            "Epoch 92/100\n",
            "240/240 [==============================] - 0s 795us/step - loss: 27.0042\n",
            "Epoch 93/100\n",
            "240/240 [==============================] - 0s 752us/step - loss: 26.8568\n",
            "Epoch 94/100\n",
            "240/240 [==============================] - 0s 753us/step - loss: 27.6638\n",
            "Epoch 95/100\n",
            "240/240 [==============================] - 0s 743us/step - loss: 27.2337\n",
            "Epoch 96/100\n",
            "240/240 [==============================] - 0s 777us/step - loss: 27.2356\n",
            "Epoch 97/100\n",
            "240/240 [==============================] - 0s 779us/step - loss: 27.3155\n",
            "Epoch 98/100\n",
            "240/240 [==============================] - 0s 747us/step - loss: 27.8870\n",
            "Epoch 99/100\n",
            "240/240 [==============================] - 0s 774us/step - loss: 26.9294\n",
            "Epoch 100/100\n",
            "240/240 [==============================] - 0s 751us/step - loss: 26.6179\n"
          ],
          "name": "stdout"
        },
        {
          "output_type": "execute_result",
          "data": {
            "text/plain": [
              "<tensorflow.python.keras.callbacks.History at 0x7f38f411deb8>"
            ]
          },
          "metadata": {
            "tags": []
          },
          "execution_count": 10
        }
      ]
    },
    {
      "cell_type": "markdown",
      "metadata": {
        "id": "ovxCFzJtwAIw"
      },
      "source": [
        "Prediction"
      ]
    },
    {
      "cell_type": "code",
      "metadata": {
        "id": "6v_qwqQTxbAQ"
      },
      "source": [
        "y_pred = ann.predict(X_test)"
      ],
      "execution_count": 12,
      "outputs": []
    },
    {
      "cell_type": "markdown",
      "metadata": {
        "id": "YZoTKPgmyoMe"
      },
      "source": [
        "Evaluation Metric: r2_score"
      ]
    },
    {
      "cell_type": "code",
      "metadata": {
        "id": "Yyqny_tryl2g",
        "outputId": "bee9b564-4d70-4fbe-c91b-631a01410e6f",
        "colab": {
          "base_uri": "https://localhost:8080/"
        }
      },
      "source": [
        "from sklearn.metrics import r2_score\n",
        "r = r2_score(y_test, y_pred)\n",
        "print ('R^2 Score:', r)\n"
      ],
      "execution_count": 15,
      "outputs": [
        {
          "output_type": "stream",
          "text": [
            "R^2 Score: 0.8977005078193914\n"
          ],
          "name": "stdout"
        }
      ]
    },
    {
      "cell_type": "markdown",
      "metadata": {
        "id": "3Uem3cbvzcoR"
      },
      "source": [
        "We have a good R^2 score!"
      ]
    }
  ]
}